{
 "cells": [
  {
   "cell_type": "code",
   "execution_count": null,
   "id": "8b4fdc77",
   "metadata": {},
   "outputs": [],
   "source": [
    "#conda create -n ml-zoomcamp python=3.8"
   ]
  },
  {
   "cell_type": "code",
   "execution_count": null,
   "id": "242714ea",
   "metadata": {},
   "outputs": [],
   "source": [
    "#conda activate ml-zoomcamp"
   ]
  },
  {
   "cell_type": "code",
   "execution_count": null,
   "id": "1656738c",
   "metadata": {},
   "outputs": [],
   "source": [
    "#conda install numpy pandas scikit-learn seaborn jupyter"
   ]
  },
  {
   "cell_type": "code",
   "execution_count": null,
   "id": "e9ef303b",
   "metadata": {},
   "outputs": [],
   "source": []
  }
 ],
 "metadata": {
  "kernelspec": {
   "display_name": "Python 3",
   "language": "python",
   "name": "python3"
  },
  "language_info": {
   "codemirror_mode": {
    "name": "ipython",
    "version": 3
   },
   "file_extension": ".py",
   "mimetype": "text/x-python",
   "name": "python",
   "nbconvert_exporter": "python",
   "pygments_lexer": "ipython3",
   "version": "3.8.8"
  }
 },
 "nbformat": 4,
 "nbformat_minor": 5
}
